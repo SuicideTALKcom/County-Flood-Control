{
 "cells": [
  {
   "cell_type": "code",
   "execution_count": 46,
   "metadata": {},
   "outputs": [
    {
     "name": "stdout",
     "output_type": "stream",
     "text": [
      "No results given for https://www.har.com/bamwood-terrace/homes-for-sale/3693?sort=listdate+desc\n",
      "[{'neighborhood': 'riverwood estates', 'address': '12403 Swan River Drive', 'city': 'Houston', 'state': 'TX', 'zip': '77050', 'days': '6', 'agent': 'Juan Miranda', 'office': 'Mission Realty', 'price': '18000'}, {'neighborhood': 'forest shadows', 'address': '4706 Broadmark Lane', 'city': 'Humble', 'state': 'TX', 'zip': '77338', 'days': '13', 'agent': 'Cellina Stokes', 'office': 'Crowne Realty', 'price': '175000'}, {'neighborhood': 'aldine estates', 'address': '15202 Claypool Street', 'city': 'Houston', 'state': 'TX', 'zip': '77032', 'days': '58', 'agent': 'Rosa Gonzalez', 'office': 'REALM Real Estate Professionals - North Houston', 'price': '774000'}, {'neighborhood': 'greenbranch', 'address': '1430 Old Greens Road', 'city': 'Houston', 'state': 'TX', 'zip': '77032', 'days': '6', 'agent': 'Rose Nava', 'office': 'JEA Properties', 'price': '135000'}, {'neighborhood': 'castlewood', 'address': '2517 Woodgate Street', 'city': 'Houston', 'state': 'TX', 'zip': '77039', 'days': '56', 'agent': 'Gina Lopez', 'office': 'Loft Realty', 'price': '225000'}]\n"
     ]
    }
   ],
   "source": [
    "import os\n",
    "import time\n",
    "import csv\n",
    "import requests\n",
    "from bs4 import BeautifulSoup\n",
    "from pprint import pprint\n",
    "from urllib import parse\n",
    "import re \n",
    "import schedule\n",
    "import threading \n",
    "\n",
    "\n",
    "\n",
    "urls = [\"https://www.har.com/riverwood-estates/homes-for-sale/2377?sort=listdate+desc\",\n",
    "        \"https://www.har.com/forest-shadows/homes-for-sale/4585?sort=listdate+desc\",\n",
    "       \"https://www.har.com/aldine-estates/homes-for-sale/1917?sort=listdate+desc\",\n",
    "       \"https://www.har.com/greenbranch/homes-for-sale/1921?sort=listdate+desc\",\n",
    "       \"https://www.har.com/castlewood/homes-for-sale/2078?sort=listdate+desc\",\n",
    "       \"https://www.har.com/bamwood-terrace/homes-for-sale/3693?sort=listdate+desc\"]\n",
    "\n",
    "all_homes = []\n",
    "\n",
    "for url in urls:\n",
    "    html = requests.get(url).text\n",
    "    soup = BeautifulSoup(html, \"html.parser\")\n",
    "    homes = soup.find('div', class_= \"prop_list\")\n",
    "    neighborhood = url.split('/')[3].replace('-',' ')\n",
    "    home_info = dict()\n",
    "    home_info ['neighborhood'] = neighborhood\n",
    "    \n",
    "  \n",
    "    try:\n",
    "        all_info = soup.find('div', class_= 'mpi_info') \n",
    "        price = soup.find('div', class_= 'mpi_img')\n",
    "        full_address = all_info.findAll('a', class_= 'address')[0].text\n",
    "        split_address = full_address.split(',')\n",
    "        home_info['address']= split_address[0].strip()\n",
    "        home_info['city']= split_address[1].strip()\n",
    "        state_zip = split_address[2].split(' ')\n",
    "        home_info['state'] = state_zip[1].strip()\n",
    "        home_info['zip'] = state_zip[2].strip()\n",
    "        home_info['days']= all_info.findAll('span', class_= 'bold')[1].text\n",
    "        home_info['agent'] = all_info.findAll('a', class_='bold')[0].text\n",
    "        home_info['office'] = all_info.findAll('a', class_= 'bold')[1].text\n",
    "        home_info['price']= price.find('div','price').text.replace(',','').replace('$','').strip()\n",
    "        all_homes.append(home_info)\n",
    "    except:\n",
    "        print(\"No results given for \" + url)\n",
    "        continue\n",
    "\n",
    "print(all_homes)\n",
    "\n"
   ]
  },
  {
   "cell_type": "code",
   "execution_count": null,
   "metadata": {},
   "outputs": [],
   "source": []
  }
 ],
 "metadata": {
  "kernelspec": {
   "display_name": "Python 3",
   "language": "python",
   "name": "python3"
  },
  "language_info": {
   "codemirror_mode": {
    "name": "ipython",
    "version": 3
   },
   "file_extension": ".py",
   "mimetype": "text/x-python",
   "name": "python",
   "nbconvert_exporter": "python",
   "pygments_lexer": "ipython3",
   "version": "3.6.8"
  }
 },
 "nbformat": 4,
 "nbformat_minor": 2
}
