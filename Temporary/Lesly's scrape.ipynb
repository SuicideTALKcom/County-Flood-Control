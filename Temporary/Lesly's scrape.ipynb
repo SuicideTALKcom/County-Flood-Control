{
 "cells": [
  {
   "cell_type": "code",
   "execution_count": 127,
   "metadata": {},
   "outputs": [
    {
     "ename": "IndentationError",
     "evalue": "expected an indented block (<ipython-input-127-35c0f82c8631>, line 14)",
     "output_type": "error",
     "traceback": [
      "\u001b[0;36m  File \u001b[0;32m\"<ipython-input-127-35c0f82c8631>\"\u001b[0;36m, line \u001b[0;32m14\u001b[0m\n\u001b[0;31m    urls = [\"https://www.har.com/riverwood-estates/homes-for-sale/2377?sort=listdate+desc\",\u001b[0m\n\u001b[0m       ^\u001b[0m\n\u001b[0;31mIndentationError\u001b[0m\u001b[0;31m:\u001b[0m expected an indented block\n"
     ]
    }
   ],
   "source": [
    "import os\n",
    "import time\n",
    "import csv\n",
    "import requests\n",
    "from bs4 import BeautifulSoup\n",
    "from pprint import pprint\n",
    "from urllib import parse\n",
    "import re \n",
    "import schedule\n",
    "import threading \n",
    "\n",
    "\n",
    "def har_homes():\n",
    "urls = [\"https://www.har.com/riverwood-estates/homes-for-sale/2377?sort=listdate+desc\",\n",
    "        \"https://www.har.com/forest-shadows/homes-for-sale/4585?sort=listdate+desc\",\n",
    "       \"https://www.har.com/aldine-estates/homes-for-sale/1917?sort=listdate+desc\",\n",
    "       \"https://www.har.com/greenbranch/homes-for-sale/1921?sort=listdate+desc\",\n",
    "       \"https://www.har.com/castlewood/homes-for-sale/2078?sort=listdate+desc\",\n",
    "       \"https://www.har.com/bamwood-terrace/homes-for-sale/3693?sort=listdate+desc\"]\n",
    "\n",
    "all_homes = []\n",
    "\n",
    "#iterate through the urls\n",
    "for url in urls:\n",
    "    html = requests.get(url).text\n",
    "    soup = BeautifulSoup(html, \"html.parser\")\n",
    "    homes = soup.find('div', class_= \"prop_list\")\n",
    "    neighborhood = url.split('/')[3].replace('-',' ')\n",
    "    home_info = dict()\n",
    "    home_info ['neighborhood'] = neighborhood\n",
    "\n",
    "    try:\n",
    "        all_info = soup.find('div', class_= 'mpi_info') \n",
    "        price = soup.find('div', class_= 'mpi_img')\n",
    "        full_address = all_info.findAll('a', class_= 'address')[0].text\n",
    "        split_address = full_address.split(',')\n",
    "        home_info['address']= split_address[0].strip()\n",
    "        home_info['city']= split_address[1].strip()\n",
    "        state_zip = split_address[2].split(' ')\n",
    "        home_info['state'] = state_zip[1].strip()\n",
    "        home_info['zip'] = state_zip[2].strip()\n",
    "        home_info['days']= all_info.findAll('span', class_= 'bold')[1].text\n",
    "        home_info['agent'] = all_info.findAll('a', class_='bold')[0].text\n",
    "        home_info['office'] = all_info.findAll('a', class_= 'bold')[1].text\n",
    "        home_info['price']= price.find('div','price').text.replace(',','').replace('$','').strip()\n",
    "        all_homes.append(home_info)\n",
    "    except:\n",
    "        print(\"No results given for \" + url)\n",
    "        continue\n",
    "\n",
    "\n",
    "\n",
    "def threader(job_func):\n",
    "    job_thread = threading.Thread(target=job_func)\n",
    "    job_thread.start()\n",
    "\n",
    "schedule.every().seconds.do(threader, scrape)\n",
    "\n",
    "def main():    \n",
    "    schedule.run_pending()\n",
    "    time.sleep(1)\n",
    "\n",
    "\n",
    " \n",
    "\n",
    "\n",
    "\n",
    "            \n",
    "\n"
   ]
  },
  {
   "cell_type": "code",
   "execution_count": null,
   "metadata": {},
   "outputs": [],
   "source": []
  }
 ],
 "metadata": {
  "kernelspec": {
   "display_name": "Python 3",
   "language": "python",
   "name": "python3"
  },
  "language_info": {
   "codemirror_mode": {
    "name": "ipython",
    "version": 3
   },
   "file_extension": ".py",
   "mimetype": "text/x-python",
   "name": "python",
   "nbconvert_exporter": "python",
   "pygments_lexer": "ipython3",
   "version": "3.6.8"
  }
 },
 "nbformat": 4,
 "nbformat_minor": 2
}
