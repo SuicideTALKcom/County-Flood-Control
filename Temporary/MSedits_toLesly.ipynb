{
 "cells": [
  {
   "cell_type": "code",
   "execution_count": 26,
   "metadata": {},
   "outputs": [
    {
     "ename": "SyntaxError",
     "evalue": "unexpected EOF while parsing (<ipython-input-26-04aeca45f847>, line 73)",
     "output_type": "error",
     "traceback": [
      "\u001b[0;36m  File \u001b[0;32m\"<ipython-input-26-04aeca45f847>\"\u001b[0;36m, line \u001b[0;32m73\u001b[0m\n\u001b[0;31m    \u001b[0m\n\u001b[0m    ^\u001b[0m\n\u001b[0;31mSyntaxError\u001b[0m\u001b[0;31m:\u001b[0m unexpected EOF while parsing\n"
     ]
    }
   ],
   "source": [
    "import os\n",
    "import time\n",
    "import csv\n",
    "import requests\n",
    "from bs4 import BeautifulSoup\n",
    "from pprint import pprint\n",
    "from urllib import parse\n",
    "import re \n",
    "# import schedule\n",
    "# import threading \n",
    "\n",
    "\n",
    "# def har_homes():\n",
    "urls = [\"https://www.har.com/riverwood-estates/homes-for-sale/2377?sort=listdate+desc\",\n",
    "        \"https://www.har.com/forest-shadows/homes-for-sale/4585?sort=listdate+desc\",\n",
    "        \"https://www.har.com/aldine-estates/homes-for-sale/1917?sort=listdate+desc\",\n",
    "        \"https://www.har.com/greenbranch/homes-for-sale/1921?sort=listdate+desc\",\n",
    "        \"https://www.har.com/castlewood/homes-for-sale/2078?sort=listdate+desc\",\n",
    "        \"https://www.har.com/bamwood-terrace/homes-for-sale/3693?sort=listdate+desc\"]\n",
    "\n",
    "all_homes = []\n",
    "\n",
    "    #iterate through the urls\n",
    "for url in urls:\n",
    "    html = requests.get(url).text\n",
    "    soup = BeautifulSoup(html, \"html.parser\")\n",
    "    homes = soup.find('div', class_= \"prop_list\").text\n",
    "    neighborhood = url.split('/')[3].replace('-',' ')\n",
    "    home_info = dict()\n",
    "    home_info ['neighborhood'] = neighborhood\n",
    "\n",
    "    try:\n",
    "        all_info = soup.find('div', class_= 'mpi_info') \n",
    "        price = soup.find('div', class_= 'mpi_img')\n",
    "        home_info['address']= all_info.findAll('span', class_= 'bold')[0].text\n",
    "        home_info['address2']= all_info.find('a').get_text()\n",
    "        home_info['days']= all_info.findAll('span', class_= 'bold')[1].text\n",
    "        home_info['agent'] = all_info.findAll('a', class_='bold')[0].text\n",
    "        home_info['office'] = all_info.findAll('a', class_= 'bold')[1].text\n",
    "        home_info['price']= price.find('div','price').text.replace(',','').replace('$','').strip()\n",
    "        all_homes.append(home_info)\n",
    "    except:\n",
    "        print(\"No results given for \" + url)\n",
    "        continue\n",
    "        \n",
    "print(home_info['address']\n",
    "            \n",
    "# return all_homes\n",
    "\n",
    "# print(home_info['address2'])\n",
    "\n",
    "\n",
    "\n",
    "#     print(all_homes)\n",
    "\n",
    "\n",
    "# def threader(job_func):\n",
    "#     job_thread = threading.Thread(target=job_func)\n",
    "#     job_thread.start()\n",
    "\n",
    "# schedule.every().seconds.do(threader, scrape)\n",
    "\n",
    "# def main():    \n",
    "#     schedule.run_pending()\n",
    "#     time.sleep(1)\n",
    "\n",
    "\n",
    " \n",
    "\n",
    "\n",
    "\n",
    "            \n",
    "\n"
   ]
  },
  {
   "cell_type": "code",
   "execution_count": null,
   "metadata": {},
   "outputs": [],
   "source": []
  }
 ],
 "metadata": {
  "kernelspec": {
   "display_name": "Python 3",
   "language": "python",
   "name": "python3"
  },
  "language_info": {
   "codemirror_mode": {
    "name": "ipython",
    "version": 3
   },
   "file_extension": ".py",
   "mimetype": "text/x-python",
   "name": "python",
   "nbconvert_exporter": "python",
   "pygments_lexer": "ipython3",
   "version": "3.6.8"
  }
 },
 "nbformat": 4,
 "nbformat_minor": 2
}
