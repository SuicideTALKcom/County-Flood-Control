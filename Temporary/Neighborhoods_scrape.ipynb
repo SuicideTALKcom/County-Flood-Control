{
 "cells": [
  {
   "cell_type": "code",
   "execution_count": 32,
   "metadata": {},
   "outputs": [
    {
     "name": "stdout",
     "output_type": "stream",
     "text": [
      "[]\n",
      "[]\n",
      "[]\n",
      "[]\n",
      "[]\n",
      "[]\n"
     ]
    }
   ],
   "source": [
    "import os\n",
    "import time\n",
    "import csv\n",
    "import requests\n",
    "from bs4 import BeautifulSoup\n",
    "from pprint import pprint\n",
    "\n",
    "from urllib import parse\n",
    "\n",
    "urls = [\"https://www.har.com/riverwood-estates/homes-for-sale/2377?sort=listdate+desc\",\n",
    "        \"https://www.har.com/forest-shadows/homes-for-sale/4585?sort=listdate+desc\",\n",
    "       \"https://www.har.com/aldine-estates/homes-for-sale/1917?sort=listdate+desc\",\n",
    "       \"https://www.har.com/greenbranch/homes-for-sale/1921?sort=listdate+desc\",\n",
    "       \"https://www.har.com/castlewood/homes-for-sale/2078?sort=listdate+desc\",\n",
    "       \"https://www.har.com/bamwood-terrace/homes-for-sale/3693?sort=listdate+desc\"]\n",
    "\n",
    "all_homes = []\n",
    "\n",
    "for index,url in enumerate(urls):\n",
    "    html = requests.get(url).text\n",
    "    soup = BeautifulSoup(html, \"html.parser\")\n",
    "    homes = soup.find_all('div', {\"id\": \"search_results\"})\n",
    "    neighborhood = soup.find('h1', {\"id\": \"result_title\"}).text.strip('homes for sale')\n",
    "    home_info = dict()\n",
    "    home_info['home_url'] = homes\n",
    "    home_info['neighborhood'] = neighborhood\n",
    "    all_homes.append(home_info)\n",
    "    \n",
    "    print(home_info['home_url'])\n",
    "\n",
    "# find_all('a', {'class': 'address'})\n",
    "\n",
    "resultset = []\n",
    "\n",
    "for homes in all_homes:\n",
    "    for home in homes['home_url']:\n",
    "        home_details = dict()\n",
    "        home_details['address'] = home.find('a', {'class': 'address'}).text.strip('\\n\\r\\t\": ').strip('\\n\\r\\t\": ').strip('\\n\\r\\t\": ').split('\\n')[0]\n",
    "#         home_details['price'] = home.find('div', {'class': 'price'}).text.strip('\\n\\r\\t\": ').strip('\\n\\r\\t\": ').strip('\\n\\r\\t\": ').replace(',','').replace('$','')\n",
    "#         home_details['days'] = home.find('span', {'class': 'bold'}).text.strip('\\n\\r\\t\": ').strip('\\n\\r\\t\": ').strip('\\n\\r\\t\": ')\n",
    "#         home_details['agent'] = home.find('div', {'class': 'capitalize bold'}).text.strip('\\n\\r\\t\": ').strip('\\n\\r\\t\": ').strip('\\n\\r\\t\": ')\n",
    "#         home_details['office'] = home.find('div', {'class': 'capitalize ellipse'}).text.strip('\\n\\r\\t\": ').strip('\\n\\r\\t\": ').strip('\\n\\r\\t\": ')\n",
    "#         home_details['neighborhood'] = homes_info['neighborhood']\n",
    "        resultset.append(home_details)   \n",
    "\n",
    "        print(home_details['address'])"
   ]
  },
  {
   "cell_type": "code",
   "execution_count": null,
   "metadata": {},
   "outputs": [],
   "source": []
  }
 ],
 "metadata": {
  "kernelspec": {
   "display_name": "Python 3",
   "language": "python",
   "name": "python3"
  },
  "language_info": {
   "codemirror_mode": {
    "name": "ipython",
    "version": 3
   },
   "file_extension": ".py",
   "mimetype": "text/x-python",
   "name": "python",
   "nbconvert_exporter": "python",
   "pygments_lexer": "ipython3",
   "version": "3.6.8"
  }
 },
 "nbformat": 4,
 "nbformat_minor": 2
}
