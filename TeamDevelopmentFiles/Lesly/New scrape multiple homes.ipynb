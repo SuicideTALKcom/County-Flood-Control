{
 "cells": [
  {
   "cell_type": "code",
   "execution_count": 1,
   "metadata": {},
   "outputs": [
    {
     "name": "stdout",
     "output_type": "stream",
     "text": [
      "\n",
      "\n",
      "[{'neighborhood': 'forest shadows', 'address': '21807 Forest Glade Drive', 'city': 'Humble', 'state': 'TX', 'zip': '77338', 'days': '18', 'agent': 'Jodi Manfred', 'office': 'JLA Realty', 'price': '199000'}, {'neighborhood': 'forest shadows', 'address': '4706 Broadmark Lane', 'city': 'Humble', 'state': 'TX', 'zip': '77338', 'days': '60', 'agent': 'Cellina Stokes', 'office': 'Crowne Realty', 'price': '171500'}, {'neighborhood': 'forest shadows', 'address': '4602 Fieldwick Lane', 'city': 'Humble', 'state': 'TX', 'zip': '77338', 'days': '74', 'agent': 'Michael Thiltgen', 'office': 'Greenbriar Real Estate Service', 'price': '189900'}, {'neighborhood': 'forest shadows', 'address': '21802 Pine Cone Drive', 'city': 'Humble', 'state': 'TX', 'zip': '77338', 'days': '75', 'agent': 'Katherine Ware', 'office': 'Irie Properties, LLC', 'price': '239900'}, {'neighborhood': 'forest shadows', 'address': '4503 Clairfield Lane', 'city': 'Humble', 'state': 'TX', 'zip': '77338', 'days': '116', 'agent': 'Rick Raymor', 'office': 'RE/MAX Professional Group', 'price': '264500'}]\n"
     ]
    }
   ],
   "source": [
    "import os\n",
    "import time\n",
    "import csv\n",
    "import requests\n",
    "from bs4 import BeautifulSoup\n",
    "from pprint import pprint\n",
    "from urllib import parse\n",
    "import re \n",
    "from datetime import datetime\n",
    "import schedule\n",
    "import threading \n",
    "# from task import homes_comparison\n",
    "import csv\n",
    "import itertools\n",
    "import ast\n",
    "\n",
    "urls = [\"https://www.har.com/forest-shadows/homes-for-sale/4585?sort=listdate+desc\"]\n",
    "\n",
    "all_homes = []\n",
    "\n",
    "for url in urls:\n",
    "    html = requests.get(url).text\n",
    "    soup = BeautifulSoup(html, 'lxml')\n",
    "    price, homes = itertools.tee(soup.find_all(\"div\", class_=\"prop_list\"))\n",
    "    neighborhood = url.split('/')[3].replace('-',' ')\n",
    "\n",
    "    for item in homes: \n",
    "        try:\n",
    "            for info in item.find_all(class_= 'mpi_info'):\n",
    "                full_address = info.find_all('a', class_= 'address')[0].text\n",
    "                split_address = full_address.split(',')\n",
    "                use_split_address = split_address[0].strip()\n",
    "                use_split_city = split_address[1].strip()\n",
    "                state_zip = split_address[2].split(' ')\n",
    "                use_state = state_zip[1].strip()\n",
    "                use_zip = state_zip[2].strip()\n",
    "                use_days = info.find_all('span', class_= 'bold')[1].text\n",
    "                use_agent = info.find_all('a', class_='bold')[0].text \n",
    "                use_office = info.find_all('a', class_= 'bold')[1].text.strip()\n",
    "                \n",
    "                home_info=  {\n",
    "                    \"neighborhood\": neighborhood,\n",
    "                    \"address\": use_split_address,\n",
    "                    \"city\": use_split_city,\n",
    "                    \"state\": use_state,\n",
    "                    \"zip\": use_zip,\n",
    "                    \"days\": use_days,\n",
    "                    \"agent\": use_agent,\n",
    "                    \"office\": use_office}\n",
    "                all_homes.append(home_info)\n",
    "                \n",
    "            \n",
    "        except:\n",
    "            print(\"No results given for \" + url)\n",
    "            continue\n",
    " \n",
    "    \n",
    "\n",
    "    for p in price:\n",
    "        try:\n",
    "            for price_div in p.find_all(class_='price'):\n",
    "                \n",
    "                try:\n",
    "                    price_div.find('img').decompose()\n",
    "                except:\n",
    "                    print()\n",
    "                \n",
    "                price_list = price_div.text.replace('$', '').replace(',','').strip('][')\n",
    "                \n",
    "                \n",
    "                new_price = price_list[2:8].strip().split('/n')\n",
    "                \n",
    "                for new in new_price:\n",
    "                    final_price = {\n",
    "                        \"price\": new\n",
    "                        }\n",
    "                \n",
    "                all_homes.append(final_price)\n",
    "\n",
    "        except:\n",
    "            print(\"exception occured\")\n",
    "            continue\n",
    "\n",
    "            \n",
    "            \n",
    "            \n",
    "            \n",
    "half_len_cities = round(len(all_homes)/2)\n",
    "for index in range(half_len_cities):\n",
    "    all_homes[index][\"price\"] = all_homes[half_len_cities][\"price\"]\n",
    "    del all_homes[half_len_cities]\n",
    "\n",
    "\n",
    "    \n",
    "    \n",
    "print(all_homes)\n",
    "\n",
    "\n",
    "\n",
    "\n",
    "\n",
    "\n",
    "\n",
    "\n",
    "\n",
    "\n"
   ]
  },
  {
   "cell_type": "code",
   "execution_count": null,
   "metadata": {},
   "outputs": [],
   "source": []
  },
  {
   "cell_type": "code",
   "execution_count": null,
   "metadata": {},
   "outputs": [],
   "source": []
  },
  {
   "cell_type": "code",
   "execution_count": 78,
   "metadata": {},
   "outputs": [],
   "source": [
    "places = [\n",
    "    {\"State\":\"TX\"},\n",
    "    {\"State\":\"FL\"},\n",
    "    {\"State\":\"GA\"},\n",
    "    {\"State\":\"CO\"},\n",
    "    {\"City\":\"Houston\"},\n",
    "    {\"City\":\"Ybor City\"},\n",
    "    {\"City\":\"Atlanta\"},\n",
    "    {\"City\":\"Boulder\"}\n",
    "]"
   ]
  },
  {
   "cell_type": "code",
   "execution_count": 79,
   "metadata": {},
   "outputs": [
    {
     "data": {
      "text/plain": [
       "[{'State': 'TX'},\n",
       " {'State': 'FL'},\n",
       " {'State': 'GA'},\n",
       " {'State': 'CO'},\n",
       " {'City': 'Houston'},\n",
       " {'City': 'Ybor City'},\n",
       " {'City': 'Atlanta'},\n",
       " {'City': 'Boulder'}]"
      ]
     },
     "execution_count": 79,
     "metadata": {},
     "output_type": "execute_result"
    }
   ],
   "source": [
    "places"
   ]
  },
  {
   "cell_type": "code",
   "execution_count": 80,
   "metadata": {},
   "outputs": [
    {
     "name": "stdout",
     "output_type": "stream",
     "text": [
      "[{'State': 'TX', 'City': 'Houston'}, {'State': 'FL', 'City': 'Ybor City'}, {'State': 'GA', 'City': 'Atlanta'}, {'State': 'CO', 'City': 'Boulder'}]\n"
     ]
    }
   ],
   "source": [
    "half_len_cities = round(len(places)/2)\n",
    "for index in range(half_len_cities):\n",
    "    places[index][\"City\"] = places[half_len_cities][\"City\"]\n",
    "    del places[half_len_cities]\n",
    "#     print(places)\n",
    "\n",
    "print(places)    "
   ]
  },
  {
   "cell_type": "code",
   "execution_count": null,
   "metadata": {},
   "outputs": [],
   "source": []
  }
 ],
 "metadata": {
  "kernelspec": {
   "display_name": "Python 3",
   "language": "python",
   "name": "python3"
  },
  "language_info": {
   "codemirror_mode": {
    "name": "ipython",
    "version": 3
   },
   "file_extension": ".py",
   "mimetype": "text/x-python",
   "name": "python",
   "nbconvert_exporter": "python",
   "pygments_lexer": "ipython3",
   "version": "3.6.8"
  }
 },
 "nbformat": 4,
 "nbformat_minor": 2
}
