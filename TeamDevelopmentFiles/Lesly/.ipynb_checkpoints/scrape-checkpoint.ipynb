{
 "cells": [
  {
   "cell_type": "code",
   "execution_count": null,
   "metadata": {},
   "outputs": [],
   "source": [
    "import csv\n",
    "import requests\n",
    "from bs4 import BeautifulSoup\n",
    "from pprint import pprint\n",
    "\n",
    "from urllib import parse\n",
    "import json\n",
    "import pandas as pd\n",
    "import time\n",
    "\n",
    "def har_homes():\n",
    "\n",
    "    urls = [\"https://www.har.com/mapsearch/?subdivisions=NorthWest+Park+place&region_id=1&for_sale=1\",\n",
    "            \"https://www.har.com/mapsearch/?subdivisions=lismore+lake+estates&for_sale=1\",\n",
    "           \"https://www.har.com/mapsearch/?subdivisions=lakewood+oaks+estates&region_id=1&for_sale=1\",\n",
    "           \"https://www.har.com/mapsearch/?subdivisions=Riata+West&region_id=1&for_sale=1\",\n",
    "           \"https://www.har.com/mapsearch/?subdivisions=Saddle+Ridge+Estates&region_id=1&for_sale=1\"]\n",
    "\n",
    "    all_homes = []\n",
    "\n",
    "    for index,url in enumerate(urls):\n",
    "        html = requests.get(url).text\n",
    "        soup = BeautifulSoup(html, \"html.parser\")\n",
    "        homes = soup.findAll('div', {\"class\": \"map_prop_item pointer\"})\n",
    "        neighborhood = dict(parse.parse_qsl(parse.urlsplit(url).query))\n",
    "        home_info = dict()\n",
    "        home_info['home_url'] = homes\n",
    "        home_info['neighborhood'] = neighborhood    \n",
    "        all_homes.append(home_info)\n",
    "\n",
    "    resultset = []\n",
    "\n",
    "    # for homes in all_homes:\n",
    "    for homes in all_homes:\n",
    "        for home in homes['home_url']:\n",
    "            home_details = dict()\n",
    "            home_details['address'] = home.find('div', {'class': 'mpi_info'}).text.strip('\\n\\r\\t\": ').strip('\\n\\r\\t\": ').strip('\\n\\r\\t\": ').split('\\n')[0]\n",
    "            home_details['price'] = home.find('div', {'class': 'price'}).text.strip('\\n\\r\\t\": ').strip('\\n\\r\\t\": ').strip('\\n\\r\\t\": ').replace(',','').replace('$','')\n",
    "            home_details['days'] = home.find('span', {'class': 'bold'}).text.strip('\\n\\r\\t\": ').strip('\\n\\r\\t\": ').strip('\\n\\r\\t\": ')\n",
    "            home_details['agent'] = home.find('div', {'class': 'capitalize bold'}).text.strip('\\n\\r\\t\": ').strip('\\n\\r\\t\": ').strip('\\n\\r\\t\": ')\n",
    "            home_details['office'] = home.find('div', {'class': 'capitalize ellipse'}).text.strip('\\n\\r\\t\": ').strip('\\n\\r\\t\": ').strip('\\n\\r\\t\": ')\n",
    "            home_details['neighborhood'] = homes['neighborhood']['subdivisions']\n",
    "            resultset.append(home_details)   \n",
    "    return resultset\n",
    "\n"
   ]
  }
 ],
 "metadata": {
  "kernelspec": {
   "display_name": "Python 3",
   "language": "python",
   "name": "python3"
  },
  "language_info": {
   "codemirror_mode": {
    "name": "ipython",
    "version": 3
   },
   "file_extension": ".py",
   "mimetype": "text/x-python",
   "name": "python",
   "nbconvert_exporter": "python",
   "pygments_lexer": "ipython3",
   "version": "3.6.8"
  }
 },
 "nbformat": 4,
 "nbformat_minor": 2
}
